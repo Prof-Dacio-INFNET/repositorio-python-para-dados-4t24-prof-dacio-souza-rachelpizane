{
 "cells": [
  {
   "cell_type": "markdown",
   "metadata": {},
   "source": [
    "# Módulo CSV"
   ]
  },
  {
   "cell_type": "markdown",
   "metadata": {},
   "source": [
    "\n",
    "## Objetivo:\n",
    "Ler e escrever arquivos CSV em Python, utilizando o modulo `csv`, e introduzir tecnicas avancadas para manipulacao desses arquivos.\n"
   ]
  },
  {
   "cell_type": "markdown",
   "metadata": {},
   "source": [
    "- Leitura de CSV"
   ]
  },
  {
   "cell_type": "code",
   "execution_count": null,
   "metadata": {},
   "outputs": [
    {
     "name": "stdout",
     "output_type": "stream",
     "text": [
      "['Nome', 'Idade']\n",
      "['Alice', '30']\n",
      "['Bob', '25']\n"
     ]
    }
   ],
   "source": [
    "import csv\n",
    "\n",
    "# Exemplo: Leitura de um arquivo CSV\n",
    "with open('dados/exemplo.csv', 'r') as arquivo_csv:\n",
    "    leitor = csv.reader(arquivo_csv, delimiter=',')\n",
    "    for linha in leitor:\n",
    "        print(linha)\n"
   ]
  },
  {
   "cell_type": "markdown",
   "metadata": {},
   "source": [
    "### Atenção à importância do parâmetro delimiter, especialmente em arquivos que podem usar delimitadores diferentes da vírgula."
   ]
  },
  {
   "cell_type": "markdown",
   "metadata": {},
   "source": [
    "- Escrita de CSV\n",
    "\n",
    "  - Função `csv.writer` para escrever dados em um arquivo CSV, incluindo a criação de cabeçalhos e linhas de dados.\n",
    "  -  `writerows` pode ser usado para escrever múltiplas linhas de uma vez."
   ]
  },
  {
   "cell_type": "code",
   "execution_count": 18,
   "metadata": {},
   "outputs": [],
   "source": [
    "import csv\n",
    "\n",
    "# Exemplo: Escrita em um arquivo CSV\n",
    "dados = [\n",
    "            ['Nome', 'Idade'],\n",
    "            ['Alice', 30], \n",
    "            ['Bob', 25], \n",
    "            [\"Alef\", 83],\n",
    "            [\"Leonardo\", 15]\n",
    "            # \"aula de python\"\n",
    "    ]\n",
    "\n",
    "with open('saida.csv', 'w', newline='') as arquivo_csv:\n",
    "    escritor = csv.writer(arquivo_csv, delimiter=',')\n",
    "    escritor.writerows(dados)\n"
   ]
  },
  {
   "cell_type": "code",
   "execution_count": 19,
   "metadata": {},
   "outputs": [],
   "source": [
    "import csv\n",
    "\n",
    "# Escrevendo em um arquivo CSV\n",
    "with open('dados/exemplinho.csv', 'w', newline='') as f:\n",
    "    writer = csv.writer(f)\n",
    "    writer.writerow(['nome', ('cidade','estado'), 'idade'])\n",
    "    writer.writerow(['Alice', 'Recife', 28])\n",
    "    writer.writerows(dados)\n"
   ]
  },
  {
   "cell_type": "code",
   "execution_count": 20,
   "metadata": {},
   "outputs": [
    {
     "name": "stdout",
     "output_type": "stream",
     "text": [
      "['nome', \"('cidade', 'estado')\", 'idade']\n",
      "['Alice', 'Recife', '28']\n",
      "['Nome', 'Idade']\n",
      "['Alice', '30']\n",
      "['Bob', '25']\n",
      "['Alef', '83']\n",
      "['Leonardo', '15']\n"
     ]
    }
   ],
   "source": [
    "\n",
    "# Lendo um arquivo CSV\n",
    "with open('dados/exemplinho.csv', 'r') as f:\n",
    "    reader = csv.reader(f)\n",
    "    for row in reader:\n",
    "        print(row)\n"
   ]
  },
  {
   "cell_type": "markdown",
   "metadata": {},
   "source": [
    "Leitura e escrita de arquivos CSV utilizando dicionários com <code>csv.DictReader</code> e <code>csv.DictWriter</code>, permitindo um acesso mais intuitivo aos dados por meio dos cabeçalhos das colunas."
   ]
  },
  {
   "cell_type": "code",
   "execution_count": 24,
   "metadata": {},
   "outputs": [
    {
     "name": "stdout",
     "output_type": "stream",
     "text": [
      "{'nome': 'Alice', \"('cidade', 'estado')\": 'Recife', 'idade': '28'}\n",
      "{'nome': 'Nome', \"('cidade', 'estado')\": 'Idade', 'idade': None}\n",
      "{'nome': 'Alice', \"('cidade', 'estado')\": '30', 'idade': None}\n",
      "{'nome': 'Bob', \"('cidade', 'estado')\": '25', 'idade': None}\n",
      "{'nome': 'Alef', \"('cidade', 'estado')\": 'SÃ£o Paulo', 'idade': '8', None: ['33']}\n",
      "{'nome': 'Leonardo', \"('cidade', 'estado')\": '15', 'idade': None}\n"
     ]
    }
   ],
   "source": [
    "with open('dados/exemplinho.csv', mode='r') as infile:\n",
    "    reader = csv.DictReader(infile)\n",
    "    for row in reader:\n",
    "        print(row)\n"
   ]
  },
  {
   "cell_type": "code",
   "execution_count": 35,
   "metadata": {},
   "outputs": [],
   "source": [
    "\n",
    "with open('NovaSaida.csv', mode='w', newline='') as outfile:\n",
    "    fieldnames = ['Nome', 'Idade']\n",
    "    writer = csv.DictWriter(outfile, fieldnames=fieldnames)\n",
    "    writer.writeheader()\n",
    "    writer.writerow({'Nome': 'Carlos', 'Idade': 22})\n"
   ]
  },
  {
   "cell_type": "markdown",
   "metadata": {},
   "source": [
    "# ==> Ir para JSON"
   ]
  },
  {
   "cell_type": "markdown",
   "metadata": {},
   "source": [
    "### Dialeto: \n",
    "Permite especificar um conjunto de parâmetros específicos para um formato de CSV particular."
   ]
  },
  {
   "cell_type": "code",
   "execution_count": null,
   "metadata": {},
   "outputs": [],
   "source": [
    "import csv\n",
    "\n",
    "csv.register_dialect('hash_dialect', delimiter='#', quoting=csv.QUOTE_MINIMAL)\n",
    "\n",
    "with open('dados/custom.csv', mode='w', newline='') as file:\n",
    "    writer = csv.writer(file, dialect='hash_dialect')\n",
    "    writer.writerow(['id', 'name'])\n",
    "    writer.writerow([1, 'Alice'])\n"
   ]
  },
  {
   "cell_type": "markdown",
   "metadata": {},
   "source": [
    "\n",
    "## Desafio:\n",
    "Dado um arquivo CSV com dados de vendas de produtos (Produto, Quantidade Vendida), escreva um script que le o arquivo, calcula o total de vendas para cada produto e salva os resultados em um novo arquivo CSV.\n"
   ]
  }
 ],
 "metadata": {
  "kernelspec": {
   "display_name": ".venv",
   "language": "python",
   "name": "python3"
  },
  "language_info": {
   "codemirror_mode": {
    "name": "ipython",
    "version": 3
   },
   "file_extension": ".py",
   "mimetype": "text/x-python",
   "name": "python",
   "nbconvert_exporter": "python",
   "pygments_lexer": "ipython3",
   "version": "3.12.7"
  }
 },
 "nbformat": 4,
 "nbformat_minor": 2
}
