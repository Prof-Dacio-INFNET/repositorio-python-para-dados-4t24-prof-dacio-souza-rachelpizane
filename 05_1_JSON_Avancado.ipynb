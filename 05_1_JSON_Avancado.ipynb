{
 "cells": [
  {
   "cell_type": "markdown",
   "metadata": {},
   "source": [
    "# Paramos aqui em 01-11-24"
   ]
  },
  {
   "cell_type": "markdown",
   "metadata": {},
   "source": [
    "## Trabalho com JSON em Strings\n",
    "\n",
    "- Funções <code>json.loads() e json.dumps():</code>\n",
    "    - json.loads(): Converte uma string JSON em um objeto Python.\n",
    "    - json.dumps(): Converte um objeto Python em uma string JSON."
   ]
  },
  {
   "cell_type": "code",
   "execution_count": null,
   "metadata": {},
   "outputs": [],
   "source": [
    "import json\n",
    "\n",
    "# Convertendo string JSON para dicionário Python\n",
    "json_string = '{\"nome\": \"Bob\", \"idade\": 25, \"cidade\": \"Los Angeles\"}'\n",
    "dados = json.loads(json_string)\n",
    "\n",
    "# Convertendo dicionário Python para string JSON\n",
    "nova_string_json = json.dumps(dados, indent=4)\n",
    "print(nova_string_json)\n"
   ]
  },
  {
   "cell_type": "markdown",
   "metadata": {},
   "source": [
    "\n",
    "## Desafio:\n",
    "Escreva um script Python que le um arquivo JSON contendo uma lista de registros (por exemplo, pessoas com nome, idade e email). Seu script deve filtrar as pessoas que tem mais de 25 anos e escrever essa informacao filtrada em um novo arquivo JSON.\n"
   ]
  },
  {
   "cell_type": "markdown",
   "metadata": {},
   "source": [
    "## Integração de JSON com APIs Web\n",
    "Uso com requests: Utilizar JSON em interações com APIs web, onde o formato JSON é comumente usado para enviar e receber dados."
   ]
  },
  {
   "cell_type": "code",
   "execution_count": 3,
   "metadata": {},
   "outputs": [
    {
     "name": "stdout",
     "output_type": "stream",
     "text": [
      "Collecting requests\n",
      "  Using cached requests-2.32.3-py3-none-any.whl.metadata (4.6 kB)\n",
      "Collecting charset-normalizer<4,>=2 (from requests)\n",
      "  Using cached charset_normalizer-3.4.0-cp312-cp312-win_amd64.whl.metadata (34 kB)\n",
      "Collecting idna<4,>=2.5 (from requests)\n",
      "  Using cached idna-3.10-py3-none-any.whl.metadata (10 kB)\n",
      "Collecting urllib3<3,>=1.21.1 (from requests)\n",
      "  Using cached urllib3-2.2.3-py3-none-any.whl.metadata (6.5 kB)\n",
      "Collecting certifi>=2017.4.17 (from requests)\n",
      "  Using cached certifi-2024.8.30-py3-none-any.whl.metadata (2.2 kB)\n",
      "Using cached requests-2.32.3-py3-none-any.whl (64 kB)\n",
      "Using cached certifi-2024.8.30-py3-none-any.whl (167 kB)\n",
      "Using cached charset_normalizer-3.4.0-cp312-cp312-win_amd64.whl (102 kB)\n",
      "Using cached idna-3.10-py3-none-any.whl (70 kB)\n",
      "Using cached urllib3-2.2.3-py3-none-any.whl (126 kB)\n",
      "Installing collected packages: urllib3, idna, charset-normalizer, certifi, requests\n",
      "Successfully installed certifi-2024.8.30 charset-normalizer-3.4.0 idna-3.10 requests-2.32.3 urllib3-2.2.3\n"
     ]
    },
    {
     "name": "stderr",
     "output_type": "stream",
     "text": [
      "\n",
      "[notice] A new release of pip is available: 24.1.1 -> 24.3.1\n",
      "[notice] To update, run: python.exe -m pip install --upgrade pip\n"
     ]
    }
   ],
   "source": [
    "!pip install requests"
   ]
  },
  {
   "cell_type": "code",
   "execution_count": 6,
   "metadata": {},
   "outputs": [
    {
     "name": "stdout",
     "output_type": "stream",
     "text": [
      "<class 'requests.models.Response'>\n",
      "['__new__', '__repr__', '__hash__', '__str__', '__lt__', '__le__', '__eq__', '__ne__', '__gt__', '__ge__', '__iter__', '__mod__', '__rmod__', '__len__', '__getitem__', '__add__', '__mul__', '__rmul__', '__contains__', 'encode', 'replace', 'split', 'rsplit', 'join', 'capitalize', 'casefold', 'title', 'center', 'count', 'expandtabs', 'find', 'partition', 'index', 'ljust', 'lower', 'lstrip', 'rfind', 'rindex', 'rjust', 'rstrip', 'rpartition', 'splitlines', 'strip', 'swapcase', 'translate', 'upper', 'startswith', 'endswith', 'removeprefix', 'removesuffix', 'isascii', 'islower', 'isupper', 'istitle', 'isspace', 'isdecimal', 'isdigit', 'isnumeric', 'isalpha', 'isalnum', 'isidentifier', 'isprintable', 'zfill', 'format', 'format_map', '__format__', 'maketrans', '__sizeof__', '__getnewargs__', '__doc__', '__getattribute__', '__setattr__', '__delattr__', '__init__', '__reduce_ex__', '__reduce__', '__getstate__', '__subclasshook__', '__init_subclass__', '__dir__', '__class__']\n",
      "{'USDBRL': {'code': 'USD', 'codein': 'BRL', 'name': 'Dólar Americano/Real Brasileiro', 'high': '5.8747', 'low': '5.753', 'varBid': '0.0817', 'pctChange': '1.41', 'bid': '5.8673', 'ask': '5.8694', 'timestamp': '1730494793', 'create_date': '2024-11-01 17:59:53'}, 'EURBRL': {'code': 'EUR', 'codein': 'BRL', 'name': 'Euro/Real Brasileiro', 'high': '6.3669', 'low': '6.203', 'varBid': '0.0591', 'pctChange': '0.94', 'bid': '6.3547', 'ask': '6.3627', 'timestamp': '1730494773', 'create_date': '2024-11-01 17:59:33'}, 'BTCBRL': {'code': 'BTC', 'codein': 'BRL', 'name': 'Bitcoin/Real Brasileiro', 'high': '417500', 'low': '401372', 'varBid': '5380', 'pctChange': '1.33', 'bid': '409860', 'ask': '410042', 'timestamp': '1730509660', 'create_date': '2024-11-01 22:07:40'}}\n"
     ]
    }
   ],
   "source": [
    "import requests\n",
    "import json\n",
    "\n",
    "url = 'https://economia.awesomeapi.com.br/json/last/USD-BRL,EUR-BRL,BTC-BRL'\n",
    "headers = {'Content-Type': 'application/json'}\n",
    "\n",
    "response = requests.get(url, headers=headers)\n",
    "print(type(response))\n",
    "print(response.text.__dir__())\n",
    "if response.status_code == 200:\n",
    "    dados = json.loads(response.text)\n",
    "    print(dados)\n"
   ]
  },
  {
   "cell_type": "code",
   "execution_count": null,
   "metadata": {},
   "outputs": [
    {
     "name": "stdout",
     "output_type": "stream",
     "text": [
      "{\"cep\":\"20010020\",\"address_type\":\"Rua\",\"address_name\":\"São José\",\"address\":\"Rua São José\",\"state\":\"RJ\",\"district\":\"Centro\",\"lat\":\"-22.90542\",\"lng\":\"-43.17576\",\"city\":\"Rio de Janeiro\",\"city_ibge\":\"3304557\",\"ddd\":\"21\"}\n",
      "{'cep': '20010020', 'address_type': 'Rua', 'address_name': 'São José', 'address': 'Rua São José', 'state': 'RJ', 'district': 'Centro', 'lat': '-22.90542', 'lng': '-43.17576', 'city': 'Rio de Janeiro', 'city_ibge': '3304557', 'ddd': '21'}\n"
     ]
    }
   ],
   "source": [
    "import requests\n",
    "import json\n",
    "\n",
    "url = 'https://cep.awesomeapi.com.br/json/20010020'\n",
    "headers = {'Content-Type': 'application/json'}\n",
    "\n",
    "response = requests.get(url, headers=headers)\n",
    "if response.status_code == 200:\n",
    "    dados = json.loads(response.text)\n",
    "    print(response.text)\n",
    "    print(dados)\n"
   ]
  },
  {
   "cell_type": "markdown",
   "metadata": {},
   "source": [
    "# Regras do formato JSON\n",
    "\n",
    "- Estrutura Básica:\n",
    "  - Um JSON é construído com uma estrutura de chave (string) e valor, similar a objetos em JavaScript.\n",
    "  - Os dados são representados em pares de chave e valor, e múltiplos pares são separados por vírgulas.\n",
    "  - Chaves são strings e devem estar entre aspas duplas \".\n",
    "  - Valores podem ser strings, números, objetos JSON, arrays, booleanos (true ou false) ou null.\n",
    "- Tipos de Dados:\n",
    "  - String: Deve estar entre aspas duplas, como \"exemplo\".\n",
    "  - Número: Inteiros ou decimais, sem aspas, como 123 ou 12.3.\n",
    "  - Objeto: Coleção de pares de chave e valor envolvidos por chaves {}, como {\"nome\": \"João\", \"idade\": 30}.\n",
    "  - Array: Uma lista ordenada de valores, entre colchetes [], como [\"maçã\", \"banana\", \"cereja\"].\n",
    "  - Booleano: true ou false, sem aspas.\n",
    "  - Null: Representa um valor nulo, escrito como null, sem aspas.\n",
    "- Objetos e Arrays:\n",
    "  - Objetos permitem modelos de dados aninhados, como objetos dentro de outros objetos.\n",
    "  - Arrays podem conter vários tipos de dados, incluindo arrays, objetos e tipos de dados primitivos.\n",
    "- Formatação:\n",
    "  - Não há necessidade de terminar com ponto e vírgula ou outro delimitador.\n",
    "  - Espaços, tabulações e quebras de linha não afetam a interpretação do JSON, sendo frequentemente usados para melhorar a legibilidade.\n",
    "- Codificação:\n",
    "  - JSON deve ser codificado em UTF-8.\n",
    "- Comentários:\n",
    "  - O JSON padrão não suporta comentários. O uso de comentários pode levar a erros ao ser interpretado por parsers que seguem o padrão estritamente.\n",
    "- Sintaxe Rigorosa:\n",
    "  - Cuidado com vírgulas extras: não deve haver vírgula após o último par de chave-valor em um objeto ou o último valor em um array."
   ]
  },
  {
   "cell_type": "code",
   "execution_count": null,
   "metadata": {
    "vscode": {
     "languageId": "javascript"
    }
   },
   "outputs": [],
   "source": [
    "//  Exemplo de JSON\n",
    "\n",
    "[\n",
    "    {\n",
    "    \"nome\": \"João\",\n",
    "    \"idade\": 30,\n",
    "    \"isEstudante\": false,\n",
    "    \"cursos\": [\"Matemática\", \"Ciência\"],\n",
    "    \"endereco\": {\n",
    "        \"rua\": \"Rua Central\",\n",
    "        \"numero\": \"1000\"\n",
    "        }\n",
    "    }\n",
    "]"
   ]
  },
  {
   "cell_type": "markdown",
   "metadata": {},
   "source": [
    "## Boas Práticas em Manipulação de JSON\n",
    "- Validação de JSON: Assegurar que os dados JSON estejam corretos antes de tentar processá-los.\n",
    "  - Uso de jsonschema: Utilizar a biblioteca jsonschema para validar a estrutura de dados JSON."
   ]
  },
  {
   "cell_type": "code",
   "execution_count": null,
   "metadata": {},
   "outputs": [
    {
     "name": "stdout",
     "output_type": "stream",
     "text": [
      "None\n"
     ]
    }
   ],
   "source": [
    "from jsonschema import validate\n",
    "import json\n",
    "dados = {\"pessoa\" : {\"nome\": \"João\", \"idade\": 25, \"cidade\": \"São Paulo\"}, \"pessoa2\" : {\"nome\": \"Bob\", \"idade\": 25, \"cidade\": \"Los Angeles\"}}\n",
    "\n",
    "schema = {\n",
    "    \"type\" : \"object\",\n",
    "    \"pessoa\" : {\n",
    "        \"nome\" : {\"type\" : \"string\"},\n",
    "        \"idade\" : {\"type\" : \"number\"},\n",
    "        \"cidade\" : {\"type\" : \"string\"}\n",
    "    },\n",
    "}\n",
    "\n",
    "# Supondo que 'dados' é um dicionário obtido através de json.load()\n",
    "print(validate(instance=dados, schema=schema))\n"
   ]
  },
  {
   "cell_type": "markdown",
   "metadata": {},
   "source": [
    "Capturar exceções como JSONDecodeError para lidar com possíveis erros de formatação."
   ]
  },
  {
   "cell_type": "code",
   "execution_count": null,
   "metadata": {},
   "outputs": [
    {
     "name": "stdout",
     "output_type": "stream",
     "text": [
      "Falha ao decodificar JSON.\n"
     ]
    }
   ],
   "source": [
    "import json\n",
    "\n",
    "try:\n",
    "    with open('dados/exemplo.csv', 'r') as file:\n",
    "        dados = json.load(file)\n",
    "except json.JSONDecodeError:\n",
    "    print(\"Falha ao decodificar JSON.\")\n"
   ]
  },
  {
   "cell_type": "code",
   "execution_count": null,
   "metadata": {},
   "outputs": [
    {
     "name": "stdout",
     "output_type": "stream",
     "text": [
      "Validação bem-sucedida!\n"
     ]
    }
   ],
   "source": [
    "from jsonschema import validate, ValidationError\n",
    "import json\n",
    "\n",
    "schema = {\n",
    "    \"type\": \"object\",\n",
    "    \"properties\": {\n",
    "        \"nome\": {\"type\": \"string\"},\n",
    "        \"idade\": {\"type\": \"integer\", \"minimum\": 0}\n",
    "    },\n",
    "    \"required\": [\"nome\", \"idade\"]\n",
    "}\n",
    "\n",
    "try:\n",
    "    validate(instance={\"nome\": \"Alice\", \"idade\": 30}, schema=schema)\n",
    "    print(\"Validação bem-sucedida!\")\n",
    "except ValidationError as ve:\n",
    "    print(\"Erro de validação:\", ve)\n"
   ]
  },
  {
   "cell_type": "code",
   "execution_count": null,
   "metadata": {},
   "outputs": [],
   "source": [
    "try:\n",
    "    with open('dados.json') as file:\n",
    "        data = json.load(file)\n",
    "except FileNotFoundError:\n",
    "    print(\"Arquivo não encontrado\")\n",
    "except json.JSONDecodeError:\n",
    "    print(\"Erro ao decodificar JSON\")\n"
   ]
  }
 ],
 "metadata": {
  "kernelspec": {
   "display_name": ".venv",
   "language": "python",
   "name": "python3"
  },
  "language_info": {
   "codemirror_mode": {
    "name": "ipython",
    "version": 3
   },
   "file_extension": ".py",
   "mimetype": "text/x-python",
   "name": "python",
   "nbconvert_exporter": "python",
   "pygments_lexer": "ipython3",
   "version": "3.12.4"
  }
 },
 "nbformat": 4,
 "nbformat_minor": 2
}
